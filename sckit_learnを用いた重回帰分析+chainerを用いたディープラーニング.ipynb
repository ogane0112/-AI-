{
  "nbformat": 4,
  "nbformat_minor": 0,
  "metadata": {
    "colab": {
      "provenance": [],
      "authorship_tag": "ABX9TyM2Bz+bVTodUsyy2UhJQJ5N",
      "include_colab_link": true
    },
    "kernelspec": {
      "name": "python3",
      "display_name": "Python 3"
    },
    "language_info": {
      "name": "python"
    }
  },
  "cells": [
    {
      "cell_type": "markdown",
      "metadata": {
        "id": "view-in-github",
        "colab_type": "text"
      },
      "source": [
        "<a href=\"https://colab.research.google.com/github/ogane0112/-AI-/blob/main/sckit_learn%E3%82%92%E7%94%A8%E3%81%84%E3%81%9F%E9%87%8D%E5%9B%9E%E5%B8%B0%E5%88%86%E6%9E%90%2Bchainer%E3%82%92%E7%94%A8%E3%81%84%E3%81%9F%E3%83%87%E3%82%A3%E3%83%BC%E3%83%97%E3%83%A9%E3%83%BC%E3%83%8B%E3%83%B3%E3%82%B0.ipynb\" target=\"_parent\"><img src=\"https://colab.research.google.com/assets/colab-badge.svg\" alt=\"Open In Colab\"/></a>"
      ]
    },
    {
      "cell_type": "code",
      "source": [
        "#初めにこのセルを実行してください！\n",
        "!pip install scikit-learn\n",
        "!pip install chainer"
      ],
      "metadata": {
        "colab": {
          "base_uri": "https://localhost:8080/"
        },
        "collapsed": true,
        "id": "4BK2ND6PuOz5",
        "outputId": "9bc89009-ab1b-455e-90ee-d255c2eee30b"
      },
      "execution_count": 10,
      "outputs": [
        {
          "output_type": "stream",
          "name": "stdout",
          "text": [
            "Requirement already satisfied: scikit-learn in /usr/local/lib/python3.10/dist-packages (1.2.2)\n",
            "Requirement already satisfied: numpy>=1.17.3 in /usr/local/lib/python3.10/dist-packages (from scikit-learn) (1.25.2)\n",
            "Requirement already satisfied: scipy>=1.3.2 in /usr/local/lib/python3.10/dist-packages (from scikit-learn) (1.11.4)\n",
            "Requirement already satisfied: joblib>=1.1.1 in /usr/local/lib/python3.10/dist-packages (from scikit-learn) (1.4.2)\n",
            "Requirement already satisfied: threadpoolctl>=2.0.0 in /usr/local/lib/python3.10/dist-packages (from scikit-learn) (3.5.0)\n",
            "Collecting chainer\n",
            "  Downloading chainer-7.8.1.tar.gz (1.0 MB)\n",
            "\u001b[2K     \u001b[90m━━━━━━━━━━━━━━━━━━━━━━━━━━━━━━━━━━━━━━━━\u001b[0m \u001b[32m1.0/1.0 MB\u001b[0m \u001b[31m6.2 MB/s\u001b[0m eta \u001b[36m0:00:00\u001b[0m\n",
            "\u001b[?25h  Preparing metadata (setup.py) ... \u001b[?25l\u001b[?25hdone\n",
            "Requirement already satisfied: setuptools in /usr/local/lib/python3.10/dist-packages (from chainer) (67.7.2)\n",
            "Requirement already satisfied: typing_extensions in /usr/local/lib/python3.10/dist-packages (from chainer) (4.12.1)\n",
            "Requirement already satisfied: filelock in /usr/local/lib/python3.10/dist-packages (from chainer) (3.14.0)\n",
            "Requirement already satisfied: numpy>=1.9.0 in /usr/local/lib/python3.10/dist-packages (from chainer) (1.25.2)\n",
            "Requirement already satisfied: protobuf>=3.0.0 in /usr/local/lib/python3.10/dist-packages (from chainer) (3.20.3)\n",
            "Requirement already satisfied: six>=1.9.0 in /usr/local/lib/python3.10/dist-packages (from chainer) (1.16.0)\n",
            "Building wheels for collected packages: chainer\n",
            "  Building wheel for chainer (setup.py) ... \u001b[?25l\u001b[?25hdone\n",
            "  Created wheel for chainer: filename=chainer-7.8.1-py3-none-any.whl size=967716 sha256=293aec76a8d1c5ea620175a94ea58ece0e7df719dd03816099347d72a775d909\n",
            "  Stored in directory: /root/.cache/pip/wheels/c4/95/6a/16014db6f761c4e742755b64aac60dbe142da1df6c5919f790\n",
            "Successfully built chainer\n",
            "Installing collected packages: chainer\n",
            "Successfully installed chainer-7.8.1\n"
          ]
        }
      ]
    },
    {
      "cell_type": "markdown",
      "source": [
        "# scikit-learn入門(scikit-learnを用いた重回帰分析)\n",
        "\n",
        "[chainer](https://tutorials.chainer.org/ja/09_Introduction_to_Scikit-learn.html)"
      ],
      "metadata": {
        "id": "fY8skYNltcYT"
      }
    },
    {
      "cell_type": "markdown",
      "source": [
        "## データセットの読み込み\n",
        "**データの説明**  \n",
        "\n",
        "  \n",
        "| 属性名   | 説明                                           |\n",
        "|----------|------------------------------------------------|\n",
        "| CRIM     | 人口 1 人あたりの犯罪発生率                   |\n",
        "| ZN       | 25,000 平方フィート以上の住宅区画が占める割合 |\n",
        "| INDUS    | 小売業以外の商業が占める面積の割合            |\n",
        "| CHAS     | チャールズ川の川沿いかどうか (0 or 1)         |\n",
        "| NOX      | 窒素酸化物の濃度                             |\n",
        "| RM       | 住居の平均部屋数                              |\n",
        "| AGE      | 1940 年より前に建てられた持ち主が住んでいる物件の割合 |\n",
        "| DIS      | 5 つのボストン雇用施設からの重み付き距離      |\n",
        "| RAD      | 環状高速道路へのアクセシビリティ指標          |\n",
        "| TAX      | $10,000 あたりの固定資産税率                   |\n",
        "| PTRATIO  | 町ごとにみた教師 1 人あたりの生徒数           |\n",
        "| B        | 町ごとにみた黒人の比率を Bk としたときの (Bk - 0.63)^2 の値 |\n",
        "| LSTAT    | 給与の低い職業に従事する人口の割合            |\n",
        "| MEDV     | 物件価格の中央値                               |\n",
        "  \n",
        "  "
      ],
      "metadata": {
        "id": "2GDjSekcs6aT"
      }
    },
    {
      "cell_type": "markdown",
      "source": [
        "# アイリスデータを用いたディープラーニング"
      ],
      "metadata": {
        "id": "z0SlTCvE-VjE"
      }
    },
    {
      "cell_type": "code",
      "execution_count": 7,
      "metadata": {
        "id": "t0jqlTMGprUp"
      },
      "outputs": [],
      "source": [
        "#アイリスデータの読み込み\n",
        "from sklearn.datasets import load_iris\n",
        "\n",
        "x, t = load_iris(return_X_y=True)\n",
        "#chainerのデータ形式に変換する\n",
        "x = x.astype('float32') #入力はfloat32\n",
        "t = t.astype('int32') #出力はint32"
      ]
    },
    {
      "cell_type": "code",
      "source": [
        "#データセットの分割\n",
        "# データセットを分割するモジュールの読み込み\n",
        "from sklearn.model_selection import train_test_split\n",
        "\n",
        "x_train_val, x_test, t_train_val, t_test = train_test_split(x, t, test_size=0.3, random_state=0)\n",
        "\n",
        "x_train, x_val, t_train, t_val = train_test_split(x_train_val, t_train_val, test_size=0.3, random_state=0)"
      ],
      "metadata": {
        "id": "zRYl_SM9xUxC"
      },
      "execution_count": 9,
      "outputs": []
    },
    {
      "cell_type": "code",
      "source": [
        "import chainer.links as L\n",
        "import chainer.functions as F\n",
        "from chainer import Sequential\n",
        "l = L.Linear(3, 2)"
      ],
      "metadata": {
        "id": "X1_km3W90jTy"
      },
      "execution_count": 13,
      "outputs": []
    },
    {
      "cell_type": "code",
      "source": [
        "# net としてインスタンス化\n",
        "n_input = 4\n",
        "n_hidden = 10\n",
        "n_output = 3\n",
        "\n",
        "net = Sequential(\n",
        "    L.Linear(n_input, n_hidden), F.relu,\n",
        "    L.Linear(n_hidden, n_hidden), F.relu,\n",
        "    L.Linear(n_hidden, n_output)\n",
        ")"
      ],
      "metadata": {
        "id": "pFl_yNPB02SK"
      },
      "execution_count": 15,
      "outputs": []
    },
    {
      "cell_type": "code",
      "source": [
        "import chainer\n",
        "import chainer.optimizers as optimizers\n",
        "\n",
        "optimizer = chainer.optimizers.SGD(lr=0.01)\n",
        "optimizer.setup(net)"
      ],
      "metadata": {
        "colab": {
          "base_uri": "https://localhost:8080/"
        },
        "id": "30OV3rG61sIo",
        "outputId": "30e5090a-e696-4ff2-f590-fd042dcca49f"
      },
      "execution_count": 19,
      "outputs": [
        {
          "output_type": "execute_result",
          "data": {
            "text/plain": [
              "<chainer.optimizers.sgd.SGD at 0x7ceb1d843b80>"
            ]
          },
          "metadata": {},
          "execution_count": 19
        }
      ]
    },
    {
      "cell_type": "code",
      "source": [
        "#エポック数\n",
        "n_epoch = 30\n",
        "n_batchsize = 16\n",
        "import numpy as np\n",
        "\n",
        "iteration = 0\n",
        "\n",
        "# ログの保存用\n",
        "results_train = {\n",
        "    'loss': [],\n",
        "    'accuracy': []\n",
        "}\n",
        "results_valid = {\n",
        "    'loss': [],\n",
        "    'accuracy': []\n",
        "}\n",
        "\n",
        "\n",
        "for epoch in range(n_epoch):\n",
        "\n",
        "    # データセット並べ替えた順番を取得\n",
        "    order = np.random.permutation(range(len(x_train)))\n",
        "\n",
        "    # 各バッチ毎の目的関数の出力と分類精度の保存用\n",
        "    loss_list = []\n",
        "    accuracy_list = []\n",
        "\n",
        "    for i in range(0, len(order), n_batchsize):\n",
        "        # バッチを準備\n",
        "        index = order[i:i+n_batchsize]\n",
        "        x_train_batch = x_train[index,:]\n",
        "        t_train_batch = t_train[index]\n",
        "\n",
        "        # 予測値を出力\n",
        "        y_train_batch = net(x_train_batch)\n",
        "\n",
        "        # 目的関数を適用し、分類精度を計算\n",
        "        loss_train_batch = F.softmax_cross_entropy(y_train_batch, t_train_batch)\n",
        "        accuracy_train_batch = F.accuracy(y_train_batch, t_train_batch)\n",
        "\n",
        "        loss_list.append(loss_train_batch.array)\n",
        "        accuracy_list.append(accuracy_train_batch.array)\n",
        "\n",
        "        # 勾配のリセットと勾配の計算\n",
        "        net.cleargrads()\n",
        "        loss_train_batch.backward()\n",
        "\n",
        "        # パラメータの更新\n",
        "        optimizer.update()\n",
        "\n",
        "        # カウントアップ\n",
        "        iteration += 1\n",
        "\n",
        "    # 訓練データに対する目的関数の出力と分類精度を集計\n",
        "    loss_train = np.mean(loss_list)\n",
        "    accuracy_train = np.mean(accuracy_list)\n",
        "\n",
        "    # 1エポック終えたら、検証データで評価\n",
        "    # 検証データで予測値を出力\n",
        "    with chainer.using_config('train', False), chainer.using_config('enable_backprop', False):\n",
        "        y_val = net(x_val)\n",
        "\n",
        "    # 目的関数を適用し、分類精度を計算\n",
        "    loss_val = F.softmax_cross_entropy(y_val, t_val)\n",
        "    accuracy_val = F.accuracy(y_val, t_val)\n",
        "\n",
        "    # 結果の表示\n",
        "    print('epoch: {}, iteration: {}, loss (train): {:.4f}, loss (valid): {:.4f}'.format(\n",
        "        epoch, iteration, loss_train, loss_val.array))\n",
        "\n",
        "    # ログを保存\n",
        "    results_train['loss'] .append(loss_train)\n",
        "    results_train['accuracy'] .append(accuracy_train)\n",
        "    results_valid['loss'].append(loss_val.array)\n",
        "    results_valid['accuracy'].append(accuracy_val.array)\n"
      ],
      "metadata": {
        "colab": {
          "base_uri": "https://localhost:8080/"
        },
        "id": "W0QtPK8f6WTZ",
        "outputId": "a7c2b1c1-ed9f-425d-d38c-4270709751fb"
      },
      "execution_count": 20,
      "outputs": [
        {
          "output_type": "stream",
          "name": "stdout",
          "text": [
            "epoch: 0, iteration: 5, loss (train): 3.0914, loss (valid): 1.3394\n",
            "epoch: 1, iteration: 10, loss (train): 1.1862, loss (valid): 1.0946\n",
            "epoch: 2, iteration: 15, loss (train): 1.1000, loss (valid): 1.0427\n",
            "epoch: 3, iteration: 20, loss (train): 1.0552, loss (valid): 1.0354\n",
            "epoch: 4, iteration: 25, loss (train): 1.0692, loss (valid): 1.0429\n",
            "epoch: 5, iteration: 30, loss (train): 1.0586, loss (valid): 1.0219\n",
            "epoch: 6, iteration: 35, loss (train): 1.0442, loss (valid): 1.0151\n",
            "epoch: 7, iteration: 40, loss (train): 1.0339, loss (valid): 1.0174\n",
            "epoch: 8, iteration: 45, loss (train): 1.0413, loss (valid): 1.0355\n",
            "epoch: 9, iteration: 50, loss (train): 1.0680, loss (valid): 1.0676\n",
            "epoch: 10, iteration: 55, loss (train): 1.0580, loss (valid): 1.0082\n",
            "epoch: 11, iteration: 60, loss (train): 1.0356, loss (valid): 0.9923\n",
            "epoch: 12, iteration: 65, loss (train): 1.0201, loss (valid): 0.9880\n",
            "epoch: 13, iteration: 70, loss (train): 1.0249, loss (valid): 0.9792\n",
            "epoch: 14, iteration: 75, loss (train): 1.0149, loss (valid): 0.9912\n",
            "epoch: 15, iteration: 80, loss (train): 1.0251, loss (valid): 1.0196\n",
            "epoch: 16, iteration: 85, loss (train): 1.0189, loss (valid): 0.9630\n",
            "epoch: 17, iteration: 90, loss (train): 0.9921, loss (valid): 0.9454\n",
            "epoch: 18, iteration: 95, loss (train): 0.9864, loss (valid): 0.9378\n",
            "epoch: 19, iteration: 100, loss (train): 0.9781, loss (valid): 0.9403\n",
            "epoch: 20, iteration: 105, loss (train): 0.9849, loss (valid): 0.9190\n",
            "epoch: 21, iteration: 110, loss (train): 0.9655, loss (valid): 0.9300\n",
            "epoch: 22, iteration: 115, loss (train): 0.9834, loss (valid): 0.9029\n",
            "epoch: 23, iteration: 120, loss (train): 0.9575, loss (valid): 0.9023\n",
            "epoch: 24, iteration: 125, loss (train): 0.9653, loss (valid): 0.8899\n",
            "epoch: 25, iteration: 130, loss (train): 0.9475, loss (valid): 0.8718\n",
            "epoch: 26, iteration: 135, loss (train): 0.9385, loss (valid): 0.8672\n",
            "epoch: 27, iteration: 140, loss (train): 0.9253, loss (valid): 0.8510\n",
            "epoch: 28, iteration: 145, loss (train): 0.9311, loss (valid): 0.8598\n",
            "epoch: 29, iteration: 150, loss (train): 0.9231, loss (valid): 0.8574\n"
          ]
        }
      ]
    },
    {
      "cell_type": "code",
      "source": [
        "%matplotlib inline\n",
        "import matplotlib.pyplot as plt\n",
        "\n",
        "# 目的関数の出力 (loss)\n",
        "plt.plot(results_train['loss'], label='train')  # label で凡例の設定\n",
        "plt.plot(results_valid['loss'], label='valid')  # label で凡例の設定\n",
        "plt.legend()  # 凡例の表示"
      ],
      "metadata": {
        "colab": {
          "base_uri": "https://localhost:8080/",
          "height": 448
        },
        "id": "pFtVHXiN8sgt",
        "outputId": "01a5ce12-94f2-42da-a571-b844fd00e8e6"
      },
      "execution_count": 21,
      "outputs": [
        {
          "output_type": "execute_result",
          "data": {
            "text/plain": [
              "<matplotlib.legend.Legend at 0x7ceb1d779ed0>"
            ]
          },
          "metadata": {},
          "execution_count": 21
        },
        {
          "output_type": "display_data",
          "data": {
            "text/plain": [
              "<Figure size 640x480 with 1 Axes>"
            ],
            "image/png": "[encoded data removed]"
          },
          "metadata": {}
        }
      ]
    },
    {
      "cell_type": "code",
      "source": [
        "# 分類精度 (accuracy)\n",
        "plt.plot(results_train['accuracy'], label='train')  # label で凡例の設定\n",
        "plt.plot(results_valid['accuracy'], label='valid')  # label で凡例の設定\n",
        "plt.legend()  # 凡例の表示"
      ],
      "metadata": {
        "colab": {
          "base_uri": "https://localhost:8080/",
          "height": 448
        },
        "id": "qTAOG1Iq9PRz",
        "outputId": "897fd8f3-f3e6-46d3-a4ee-7c1e740a9a4c"
      },
      "execution_count": 22,
      "outputs": [
        {
          "output_type": "execute_result",
          "data": {
            "text/plain": [
              "<matplotlib.legend.Legend at 0x7ceb1d7d2140>"
            ]
          },
          "metadata": {},
          "execution_count": 22
        },
        {
          "output_type": "display_data",
          "data": {
            "text/plain": [
              "<Figure size 640x480 with 1 Axes>"
            ],
            "image/png": "[encoded data removed]"
          },
          "metadata": {}
        }
      ]
    },
    {
      "cell_type": "code",
      "source": [
        "# テストデータで予測値を計算\n",
        "with chainer.using_config('train', False), chainer.using_config('enable_backprop', False):\n",
        "    y_test = net(x_test)\n",
        "#分類精度を計算\n",
        "accuracy_test = F.accuracy(y_test, t_test)\n",
        "accuracy_test.array"
      ],
      "metadata": {
        "colab": {
          "base_uri": "https://localhost:8080/"
        },
        "id": "HBKUipri9tuh",
        "outputId": "19d78799-f7c2-4d2e-af57-71cb9b99534a"
      },
      "execution_count": 24,
      "outputs": [
        {
          "output_type": "execute_result",
          "data": {
            "text/plain": [
              "array(0.6, dtype=float32)"
            ]
          },
          "metadata": {},
          "execution_count": 24
        }
      ]
    },
    {
      "cell_type": "code",
      "source": [
        "chainer.serializers.save_npz('my_iris.net', net)"
      ],
      "metadata": {
        "id": "XIWTuYsh97Rq"
      },
      "execution_count": 25,
      "outputs": []
    },
    {
      "cell_type": "code",
      "source": [
        "!ls"
      ],
      "metadata": {
        "colab": {
          "base_uri": "https://localhost:8080/"
        },
        "id": "DmtIkfKT982s",
        "outputId": "9f4e337a-3660-4996-d431-5e85a5d710c5"
      },
      "execution_count": 26,
      "outputs": [
        {
          "output_type": "stream",
          "name": "stdout",
          "text": [
            "my_iris.net  sample_data\n"
          ]
        }
      ]
    },
    {
      "cell_type": "code",
      "source": [
        "loaded_net = Sequential(\n",
        "    L.Linear(n_input, n_hidden), F.relu,\n",
        "    L.Linear(n_hidden, n_hidden), F.relu,\n",
        "    L.Linear(n_hidden, n_output)\n",
        ")\n",
        "\n",
        "chainer.serializers.load_npz('my_iris.net', loaded_net)"
      ],
      "metadata": {
        "id": "YMW8pMTF9_jm"
      },
      "execution_count": 28,
      "outputs": []
    },
    {
      "cell_type": "code",
      "source": [
        "with chainer.using_config('train', False), chainer.using_config('enable_backprop', False):\n",
        "    y_test = loaded_net(x_test)\n",
        "\n",
        "np.argmax(y_test[0,:].array)"
      ],
      "metadata": {
        "colab": {
          "base_uri": "https://localhost:8080/"
        },
        "id": "m_mggCvx-IWx",
        "outputId": "f2dd5325-d381-43c4-e23a-319d50791247"
      },
      "execution_count": 30,
      "outputs": [
        {
          "output_type": "execute_result",
          "data": {
            "text/plain": [
              "2"
            ]
          },
          "metadata": {},
          "execution_count": 30
        }
      ]
    }
  ]
}